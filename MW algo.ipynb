{
 "cells": [
  {
   "cell_type": "code",
   "execution_count": 94,
   "metadata": {},
   "outputs": [],
   "source": [
    "import numpy as np"
   ]
  },
  {
   "cell_type": "code",
   "execution_count": 95,
   "metadata": {},
   "outputs": [],
   "source": [
    "def get_S(A):\n",
    "    N = len(A[0])\n",
    "    S = np.zeros(N)\n",
    "    for i in range(1, N):\n",
    "        S[i] = np.sum(A[i])\n",
    "    print('S', S[1:])\n",
    "    return S"
   ]
  },
  {
   "cell_type": "code",
   "execution_count": 96,
   "metadata": {},
   "outputs": [],
   "source": [
    "def get_SS(A):\n",
    "    N = len(A[0])\n",
    "    SS = np.zeros(N)\n",
    "    for i in range(1, N):\n",
    "        for j in range(1, N):\n",
    "            if A[i][j] != 0:\n",
    "                SS[i] += j + 1 #так как нумерация идёт с нуля, прибавим единичку к индексу\n",
    "    print('SS', SS[1:])\n",
    "    return SS"
   ]
  },
  {
   "cell_type": "code",
   "execution_count": 97,
   "metadata": {},
   "outputs": [],
   "source": [
    "def find_max_SS(A, S, SS):\n",
    "    N = len(A[0])\n",
    "    k = [0] #индексы максимальных элементов SS\n",
    "    for i in range(1, N):\n",
    "        if SS[i] > SS[k[0]]:\n",
    "            k = np.array([i])\n",
    "        elif SS[i] == SS[k[0]] and i != 0:\n",
    "            k = np.append(k, i)\n",
    "    if len(k) == 1:\n",
    "        return k[0]\n",
    "    m = k[0] #индекс SS, у которого меньше всего слагаемых\n",
    "    for i in k:\n",
    "        if S[m] < S[i]:\n",
    "            m = i\n",
    "        elif S[m] == S[i] and i != k[0]: #число слагаемых оказалось равно\n",
    "            for j in range(N):\n",
    "                if A[i][j] or A[m][j]:\n",
    "                    if A[i][j] < A[m][j]:\n",
    "                        m = i\n",
    "                        break\n",
    "    return m"
   ]
  },
  {
   "cell_type": "code",
   "execution_count": 98,
   "metadata": {
    "scrolled": true
   },
   "outputs": [
    {
     "name": "stdout",
     "output_type": "stream",
     "text": [
      "[[  0.   1.   2.   3.   4.   5.   6.   7.   8.   9.  10.]\n",
      " [  1.   0.   0.   0.   1.   1.   1.   1.   1.   0.   1.]\n",
      " [  2.   0.   0.   0.   1.   0.   1.   1.   1.   1.   0.]\n",
      " [  3.   0.   0.   0.   0.   1.   0.   0.   0.   1.   1.]\n",
      " [  4.   1.   1.   0.   0.   0.   1.   1.   0.   0.   1.]\n",
      " [  5.   1.   0.   1.   0.   0.   0.   1.   1.   0.   1.]\n",
      " [  6.   1.   1.   0.   1.   0.   0.   0.   0.   1.   1.]\n",
      " [  7.   1.   1.   0.   1.   1.   0.   0.   1.   0.   1.]\n",
      " [  8.   1.   1.   0.   0.   1.   0.   1.   0.   0.   0.]\n",
      " [  9.   0.   1.   1.   0.   0.   1.   0.   0.   0.   0.]\n",
      " [ 10.   1.   0.   1.   1.   1.   1.   1.   0.   0.   0.]]\n",
      "[[ 0.  0.  0.  1.  1.  1.  1.  1.  0.  1.]\n",
      " [ 0.  0.  0.  1.  0.  1.  1.  1.  1.  0.]\n",
      " [ 0.  0.  0.  0.  1.  0.  0.  0.  1.  1.]\n",
      " [ 1.  1.  0.  0.  0.  1.  1.  0.  0.  1.]\n",
      " [ 1.  0.  1.  0.  0.  0.  1.  1.  0.  1.]\n",
      " [ 1.  1.  0.  1.  0.  0.  0.  0.  1.  1.]\n",
      " [ 1.  1.  0.  1.  1.  0.  0.  1.  0.  1.]\n",
      " [ 1.  1.  0.  0.  1.  0.  1.  0.  0.  0.]\n",
      " [ 0.  1.  1.  0.  0.  1.  0.  0.  0.  0.]\n",
      " [ 1.  0.  1.  1.  1.  1.  1.  0.  0.  0.]]\n"
     ]
    }
   ],
   "source": [
    "# зададим матрицу смежности графа\n",
    "N = 10\n",
    "A = np.random.randint(2, size=(N, N))\n",
    "# делаем матрицу симметричной\n",
    "A = np.tril(A) + np.tril(A, -1).T\n",
    "for i in range(N):\n",
    "    A[i][i] = 0\n",
    "#print(A)\n",
    "b = np.linspace(1, N, N, endpoint=True)\n",
    "A = np.append(b[:,np.newaxis], A, axis=1)\n",
    "#print(A)\n",
    "b = np.linspace(0, N, N+1, endpoint=True)\n",
    "A = np.append(b[np.newaxis,:], A, axis=0)\n",
    "print(A)\n",
    "print(A[1:, 1:])"
   ]
  },
  {
   "cell_type": "code",
   "execution_count": 99,
   "metadata": {},
   "outputs": [],
   "source": [
    "def MW_Alg(A):\n",
    "    A_init = A\n",
    "    \n",
    "    while np.count_nonzero(A[1:, 1:]):\n",
    "        S = get_S(A)\n",
    "        SS = get_SS(A)\n",
    "        m = find_max_SS(A, S, SS)\n",
    "        print('нужная вершина', int(A[0][m]))\n",
    "        N = len(A[0])\n",
    "        to_remove = np.zeros(0)\n",
    "        to_remove_index = np.zeros(0)\n",
    "        for i in range(1, N):\n",
    "            if A[m][i] == 1:\n",
    "                to_remove = np.append(to_remove, i)\n",
    "                to_remove_index = np.append(to_remove_index, A[i][0])\n",
    "        print('инцидентные к ней вершины', to_remove_index)\n",
    "\n",
    "        for i in sorted(to_remove, reverse=True): \n",
    "            A = np.delete(A, i, 0)\n",
    "            A = np.delete(A, i, 1)\n",
    "        print('\\nновая матрица\\n', A)\n",
    "        \n",
    "    for i in sorted(A[0, 1:], reverse=True): \n",
    "        A_init = np.delete(A_init, i, 0)\n",
    "        A_init = np.delete(A_init, i, 1)\n",
    "    print(A_init)"
   ]
  },
  {
   "cell_type": "code",
   "execution_count": 100,
   "metadata": {},
   "outputs": [
    {
     "name": "stdout",
     "output_type": "stream",
     "text": [
      "S [  7.   7.   6.   9.  10.  11.  13.  12.  12.  16.]\n",
      "SS [ 46.  39.  27.  31.  34.  31.  36.  19.  14.  32.]\n",
      "нужная вершина 1\n",
      "инцидентные к ней вершины [  4.   5.   6.   7.   8.  10.]\n",
      "\n",
      "новая матрица\n",
      " [[ 0.  1.  2.  3.  9.]\n",
      " [ 1.  0.  0.  0.  0.]\n",
      " [ 2.  0.  0.  0.  1.]\n",
      " [ 3.  0.  0.  0.  1.]\n",
      " [ 9.  0.  1.  1.  0.]]\n",
      "S [  1.   3.   4.  11.]\n",
      "SS [ 0.  5.  5.  7.]\n",
      "нужная вершина 9\n",
      "инцидентные к ней вершины [ 2.  3.]\n",
      "\n",
      "новая матрица\n",
      " [[ 0.  1.  9.]\n",
      " [ 1.  0.  0.]\n",
      " [ 9.  0.  0.]]\n",
      "[[  0.   2.   3.   4.   5.   6.   7.   8.  10.]\n",
      " [  2.   0.   0.   1.   0.   1.   1.   1.   0.]\n",
      " [  3.   0.   0.   0.   1.   0.   0.   0.   1.]\n",
      " [  4.   1.   0.   0.   0.   1.   1.   0.   1.]\n",
      " [  5.   0.   1.   0.   0.   0.   1.   1.   1.]\n",
      " [  6.   1.   0.   1.   0.   0.   0.   0.   1.]\n",
      " [  7.   1.   0.   1.   1.   0.   0.   1.   1.]\n",
      " [  8.   1.   0.   0.   1.   0.   1.   0.   0.]\n",
      " [ 10.   0.   1.   1.   1.   1.   1.   0.   0.]]\n"
     ]
    },
    {
     "name": "stderr",
     "output_type": "stream",
     "text": [
      "/usr/local/lib/python3.5/dist-packages/ipykernel/__main__.py:19: DeprecationWarning: using a non-integer array as obj in delete will result in an error in the future\n",
      "/usr/local/lib/python3.5/dist-packages/ipykernel/__main__.py:20: DeprecationWarning: using a non-integer array as obj in delete will result in an error in the future\n",
      "/usr/local/lib/python3.5/dist-packages/ipykernel/__main__.py:24: DeprecationWarning: using a non-integer array as obj in delete will result in an error in the future\n",
      "/usr/local/lib/python3.5/dist-packages/ipykernel/__main__.py:25: DeprecationWarning: using a non-integer array as obj in delete will result in an error in the future\n"
     ]
    }
   ],
   "source": [
    "MW_Alg(A)"
   ]
  },
  {
   "cell_type": "code",
   "execution_count": null,
   "metadata": {},
   "outputs": [],
   "source": []
  }
 ],
 "metadata": {
  "kernelspec": {
   "display_name": "Python 3",
   "language": "python",
   "name": "python3"
  },
  "language_info": {
   "codemirror_mode": {
    "name": "ipython",
    "version": 3
   },
   "file_extension": ".py",
   "mimetype": "text/x-python",
   "name": "python",
   "nbconvert_exporter": "python",
   "pygments_lexer": "ipython3",
   "version": "3.5.2"
  }
 },
 "nbformat": 4,
 "nbformat_minor": 2
}
